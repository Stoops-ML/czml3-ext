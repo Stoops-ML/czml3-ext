{
 "cells": [
  {
   "cell_type": "code",
   "execution_count": 1,
   "metadata": {},
   "outputs": [],
   "source": [
    "import numpy as np\n",
    "import rasterio\n",
    "from czml3 import CZML_VERSION, Document, Packet\n",
    "from czml3.properties import (\n",
    "    Color,\n",
    "    Material,\n",
    "    Polygon,\n",
    "    PositionList,\n",
    "    SolidColorMaterial,\n",
    ")\n",
    "\n",
    "import czml3_ext\n",
    "from czml3_ext import packets, rasters\n",
    "from czml3_ext.colours import (\n",
    "    RGBA_black,\n",
    "    RGBA_white,\n",
    "    create_palette,\n",
    ")"
   ]
  },
  {
   "cell_type": "code",
   "execution_count": 2,
   "metadata": {},
   "outputs": [
    {
     "name": "stdout",
     "output_type": "stream",
     "text": [
      "Using czml3-ext version: 0.11.0\n"
     ]
    }
   ],
   "source": [
    "print(f\"Using czml3-ext version: {czml3_ext.__version__}\")"
   ]
  },
  {
   "cell_type": "markdown",
   "metadata": {},
   "source": [
    "## Coverage"
   ]
  },
  {
   "cell_type": "markdown",
   "metadata": {},
   "source": [
    "### Coverage of a single sensor"
   ]
  },
  {
   "cell_type": "code",
   "execution_count": 3,
   "metadata": {},
   "outputs": [],
   "source": [
    "vs = packets.coverage(rasters.ops(\"data.tif\", 5), delete_rasters=True)"
   ]
  },
  {
   "cell_type": "code",
   "execution_count": 4,
   "metadata": {},
   "outputs": [],
   "source": [
    "with rasterio.open(\"data.tif\") as src:\n",
    "    arr = src.read(1)\n",
    "    origin_x, origin_y = src.transform * (0, 0)\n",
    "    delta_x = src.transform[0]\n",
    "    delta_y = src.transform[4]"
   ]
  },
  {
   "cell_type": "code",
   "execution_count": 5,
   "metadata": {},
   "outputs": [],
   "source": [
    "sensor_coverage = packets.sensor(\n",
    "    np.array(\n",
    "        [\n",
    "            [origin_y + arr.shape[0] / 2 * delta_y],\n",
    "            [origin_x + arr.shape[1] / 2 * delta_x],\n",
    "            [0],\n",
    "        ]\n",
    "    ),\n",
    "    320,\n",
    "    20,\n",
    "    180,\n",
    "    20,\n",
    "    10_000,\n",
    ")"
   ]
  },
  {
   "cell_type": "code",
   "execution_count": 6,
   "metadata": {},
   "outputs": [],
   "source": [
    "doc = Document(\n",
    "    packets=(\n",
    "        [Packet(name=\"example\", id=\"document\", version=CZML_VERSION)]\n",
    "        + vs\n",
    "        + sensor_coverage\n",
    "    )\n",
    ")\n",
    "with open(\"example.czml\", \"w\") as f:\n",
    "    f.write(doc.dumps())"
   ]
  },
  {
   "cell_type": "markdown",
   "metadata": {},
   "source": [
    "### Coverage with a hole"
   ]
  },
  {
   "cell_type": "code",
   "execution_count": 7,
   "metadata": {},
   "outputs": [],
   "source": [
    "vs_hole = packets.coverage(\n",
    "    rasters.ops(\"data.tif\", 5), rasters.ops(\"data_cut.tif\", 5), delete_rasters=True\n",
    ")"
   ]
  },
  {
   "cell_type": "code",
   "execution_count": 8,
   "metadata": {},
   "outputs": [],
   "source": [
    "doc = Document(\n",
    "    packets=(\n",
    "        [Packet(name=\"example\", id=\"document\", version=CZML_VERSION)]\n",
    "        + vs_hole\n",
    "        + sensor_coverage\n",
    "    )\n",
    ")\n",
    "with open(\"example.czml\", \"w\") as f:\n",
    "    f.write(doc.dumps())"
   ]
  },
  {
   "cell_type": "markdown",
   "metadata": {},
   "source": [
    "### Coverage above a height\n",
    "Show areas that are above 100 metres."
   ]
  },
  {
   "cell_type": "code",
   "execution_count": 9,
   "metadata": {},
   "outputs": [],
   "source": [
    "vs_height = packets.coverage(\n",
    "    rasters.ops(\"data.tif\", 100, \"ge\", band=2), delete_rasters=True\n",
    ")"
   ]
  },
  {
   "cell_type": "code",
   "execution_count": 10,
   "metadata": {},
   "outputs": [],
   "source": [
    "doc = Document(\n",
    "    packets=(\n",
    "        [Packet(name=\"example\", id=\"document\", version=CZML_VERSION)]\n",
    "        + vs_height\n",
    "        + sensor_coverage\n",
    "    )\n",
    ")\n",
    "with open(\"example.czml\", \"w\") as f:\n",
    "    f.write(doc.dumps())"
   ]
  },
  {
   "cell_type": "markdown",
   "metadata": {},
   "source": [
    "### Coverage between heights\n",
    "Show areas that are between 100 metres and 200 metres. The method below uses a hole to remove areas below 100 metres."
   ]
  },
  {
   "cell_type": "code",
   "execution_count": 11,
   "metadata": {},
   "outputs": [],
   "source": [
    "vs_heights = packets.coverage(\n",
    "    rasters.ops(\"data.tif\", 200, \"le\", band=2),\n",
    "    rasters.ops(\"data.tif\", 100, \"le\", band=2),\n",
    "    delete_rasters=True,\n",
    ")"
   ]
  },
  {
   "cell_type": "code",
   "execution_count": 12,
   "metadata": {},
   "outputs": [],
   "source": [
    "doc = Document(\n",
    "    packets=(\n",
    "        [Packet(name=\"example\", id=\"document\", version=CZML_VERSION)]\n",
    "        + vs_heights\n",
    "        + sensor_coverage\n",
    "    )\n",
    ")\n",
    "with open(\"example.czml\", \"w\") as f:\n",
    "    f.write(doc.dumps())"
   ]
  },
  {
   "cell_type": "markdown",
   "metadata": {},
   "source": [
    "The next method chains operations on the same raster and therefore doesn't require inputting holes to `packets.coverage()`. This is the recommended approach as it is usually "
   ]
  },
  {
   "cell_type": "code",
   "execution_count": 13,
   "metadata": {},
   "outputs": [],
   "source": [
    "vs_heights = packets.coverage(\n",
    "    rasters.ops(\n",
    "        \"data.tif\", [200, 100], [\"le\", \"ge\"], band=2\n",
    "    ),  # same as rasters.ops(\"data.tif\", [100, 200], [\"ge\", \"le\"], band=2)\n",
    "    delete_rasters=True,\n",
    ")"
   ]
  },
  {
   "cell_type": "code",
   "execution_count": 14,
   "metadata": {},
   "outputs": [],
   "source": [
    "doc = Document(\n",
    "    packets=(\n",
    "        [Packet(name=\"example\", id=\"document\", version=CZML_VERSION)]\n",
    "        + vs_heights\n",
    "        + sensor_coverage\n",
    "    )\n",
    ")\n",
    "with open(\"example.czml\", \"w\") as f:\n",
    "    f.write(doc.dumps())"
   ]
  },
  {
   "cell_type": "markdown",
   "metadata": {},
   "source": [
    "`rasters.ops()` will raise an error if the output raster is empty. This can be turned off using the `error_if_no_data` input."
   ]
  },
  {
   "cell_type": "code",
   "execution_count": 15,
   "metadata": {},
   "outputs": [
    {
     "name": "stdout",
     "output_type": "stream",
     "text": [
      "Created raster is empty.\n"
     ]
    }
   ],
   "source": [
    "try:\n",
    "    rasters.ops(\"data.tif\", -999)  # error_if_no_data=True by default\n",
    "except ValueError as e:\n",
    "    print(e)"
   ]
  },
  {
   "cell_type": "markdown",
   "metadata": {},
   "source": [
    "### Amount of coverage overlap\n",
    "Show polygons of the amount of overlap. The amount of overlap corresponds to a colour on a predefined scale."
   ]
  },
  {
   "cell_type": "code",
   "execution_count": 16,
   "metadata": {},
   "outputs": [],
   "source": [
    "fpaths = [\"data_cut.tif\", \"data.tif\"]\n",
    "fpath_coverage, num_coverages = rasters.coverage_amount(fpaths, 5)"
   ]
  },
  {
   "cell_type": "code",
   "execution_count": 17,
   "metadata": {},
   "outputs": [],
   "source": [
    "rgba = create_palette([RGBA_black, RGBA_white], len(fpaths) + 1)"
   ]
  },
  {
   "cell_type": "code",
   "execution_count": 18,
   "metadata": {},
   "outputs": [],
   "source": [
    "overlaps = []\n",
    "for num_covers in num_coverages:\n",
    "    overlaps.extend(\n",
    "        packets.coverage(\n",
    "            rasters.ops(fpath_coverage, num_covers),\n",
    "            name=f\"Overlap of {num_covers}\",\n",
    "            polygon=Polygon(\n",
    "                positions=PositionList(cartographicDegrees=[0, 0, 0]),\n",
    "                material=Material(\n",
    "                    solidColor=SolidColorMaterial(color=Color(rgba=rgba[num_covers]))\n",
    "                ),\n",
    "            ),\n",
    "            delete_rasters=True,\n",
    "        )\n",
    "    )"
   ]
  },
  {
   "cell_type": "code",
   "execution_count": 19,
   "metadata": {},
   "outputs": [],
   "source": [
    "doc = Document(\n",
    "    packets=([Packet(name=\"example\", id=\"document\", version=CZML_VERSION)] + overlaps)\n",
    ")\n",
    "with open(\"example.czml\", \"w\") as f:\n",
    "    f.write(doc.dumps())"
   ]
  },
  {
   "cell_type": "code",
   "execution_count": null,
   "metadata": {},
   "outputs": [],
   "source": []
  }
 ],
 "metadata": {
  "kernelspec": {
   "display_name": "venv",
   "language": "python",
   "name": "python3"
  },
  "language_info": {
   "codemirror_mode": {
    "name": "ipython",
    "version": 3
   },
   "file_extension": ".py",
   "mimetype": "text/x-python",
   "name": "python",
   "nbconvert_exporter": "python",
   "pygments_lexer": "ipython3",
   "version": "3.11.9"
  }
 },
 "nbformat": 4,
 "nbformat_minor": 2
}
