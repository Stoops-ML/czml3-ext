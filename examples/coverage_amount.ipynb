{
 "cells": [
  {
   "cell_type": "code",
   "execution_count": 1,
   "metadata": {},
   "outputs": [],
   "source": [
    "import numpy as np\n",
    "from czml3 import CZML_VERSION, Document, Packet\n",
    "from czml3.properties import (\n",
    "    Color,\n",
    "    Material,\n",
    "    Polygon,\n",
    "    PositionList,\n",
    "    SolidColorMaterial,\n",
    ")\n",
    "\n",
    "import czml3_ext\n",
    "from czml3_ext import packets\n",
    "from czml3_ext.colours import (\n",
    "    RGBA_black,\n",
    "    RGBA_orange,\n",
    "    create_palette,\n",
    ")\n",
    "from czml3_ext.helpers import get_contours, get_coverage_amount"
   ]
  },
  {
   "cell_type": "code",
   "execution_count": null,
   "metadata": {},
   "outputs": [],
   "source": [
    "print(f\"Using czml3-ext version: {czml3_ext.__version__}\")"
   ]
  },
  {
   "cell_type": "markdown",
   "metadata": {},
   "source": [
    "## Coverage\n",
    "Amount of coverage overlap"
   ]
  },
  {
   "cell_type": "code",
   "execution_count": 3,
   "metadata": {},
   "outputs": [],
   "source": [
    "arr, origin_x1, origin_y1, delta_x1, delta_y1 = get_coverage_amount(\n",
    "    [\"data_cut.tif\", \"data.tif\"],\n",
    "    5,\n",
    ")"
   ]
  },
  {
   "cell_type": "code",
   "execution_count": 4,
   "metadata": {},
   "outputs": [],
   "source": [
    "rgba = create_palette(\n",
    "    [RGBA_black, RGBA_black, RGBA_orange], np.max(arr) + 1\n",
    ")  # repeating the first colour twice because we don't want to show a zero coverage"
   ]
  },
  {
   "cell_type": "code",
   "execution_count": 5,
   "metadata": {},
   "outputs": [],
   "source": [
    "overlaps = []\n",
    "for num_covers in range(1, np.max(arr) + 1):\n",
    "    coverage_overlap, _ = get_contours(\n",
    "        arr == num_covers,\n",
    "        deg_origin_x=origin_x1,\n",
    "        deg_size_x=delta_x1,\n",
    "        deg_origin_y=origin_y1,\n",
    "        deg_size_y=delta_y1,\n",
    "    )\n",
    "    overlaps.extend(\n",
    "        packets.coverage(\n",
    "            coverage_overlap,\n",
    "            name=f\"Coverage of {num_covers}\",\n",
    "            polygon=Polygon(\n",
    "                positions=PositionList(cartographicDegrees=[0, 0, 0]),\n",
    "                material=Material(\n",
    "                    solidColor=SolidColorMaterial(color=Color(rgba=rgba[num_covers]))\n",
    "                ),\n",
    "            ),\n",
    "        )\n",
    "    )"
   ]
  },
  {
   "cell_type": "markdown",
   "metadata": {},
   "source": [
    "## Export\n",
    "Export to file as you would any other `czml3.Document`."
   ]
  },
  {
   "cell_type": "code",
   "execution_count": 6,
   "metadata": {},
   "outputs": [],
   "source": [
    "doc = Document(\n",
    "    packets=([Packet(name=\"example\", id=\"document\", version=CZML_VERSION)] + overlaps)\n",
    ")"
   ]
  },
  {
   "cell_type": "code",
   "execution_count": 7,
   "metadata": {},
   "outputs": [],
   "source": [
    "with open(\"example.czml\", \"w\") as f:\n",
    "    f.write(doc.dumps())"
   ]
  },
  {
   "cell_type": "code",
   "execution_count": null,
   "metadata": {},
   "outputs": [],
   "source": []
  }
 ],
 "metadata": {
  "kernelspec": {
   "display_name": "venv",
   "language": "python",
   "name": "python3"
  },
  "language_info": {
   "codemirror_mode": {
    "name": "ipython",
    "version": 3
   },
   "file_extension": ".py",
   "mimetype": "text/x-python",
   "name": "python",
   "nbconvert_exporter": "python",
   "pygments_lexer": "ipython3",
   "version": "3.11.9"
  }
 },
 "nbformat": 4,
 "nbformat_minor": 2
}
