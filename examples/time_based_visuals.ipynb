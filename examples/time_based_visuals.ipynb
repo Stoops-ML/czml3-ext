{
 "cells": [
  {
   "cell_type": "code",
   "execution_count": 1,
   "metadata": {},
   "outputs": [],
   "source": [
    "import datetime\n",
    "\n",
    "import numpy as np\n",
    "import shapely\n",
    "from czml3 import CZML_VERSION, Document, Packet\n",
    "from czml3.properties import (\n",
    "    Clock,\n",
    "    Color,\n",
    "    Material,\n",
    "    Polygon,\n",
    "    PositionList,\n",
    "    SolidColorMaterial,\n",
    ")\n",
    "from czml3.types import IntervalValue, TimeIntervalCollection\n",
    "\n",
    "import czml3_ext\n",
    "from czml3_ext import packets\n",
    "from czml3_ext.colours import RGBA_blue, RGBA_orange, RGBA_white, create_palette\n",
    "from czml3_ext.helpers import get_border"
   ]
  },
  {
   "cell_type": "code",
   "execution_count": null,
   "metadata": {},
   "outputs": [],
   "source": [
    "print(f\"Using czml3-ext version: {czml3_ext.__version__}\")"
   ]
  },
  {
   "cell_type": "markdown",
   "metadata": {},
   "source": [
    "## Time\n",
    "czml3-ext works fully with czml3."
   ]
  },
  {
   "cell_type": "code",
   "execution_count": 3,
   "metadata": {},
   "outputs": [],
   "source": [
    "border = packets.border(\"Israel\")"
   ]
  },
  {
   "cell_type": "code",
   "execution_count": 4,
   "metadata": {},
   "outputs": [],
   "source": [
    "ddm_LLA_israel = get_border(\"israel\")\n",
    "poly_shape = shapely.Polygon(ddm_LLA_israel[:, [0, 1], 0].tolist())\n",
    "x = np.linspace(ddm_LLA_israel[:, 1, 0].min(), ddm_LLA_israel[:, 1, 0].max(), 20)\n",
    "y = np.linspace(ddm_LLA_israel[:, 0, 0].min(), ddm_LLA_israel[:, 0, 0].max(), 20)\n",
    "xv, yv = np.meshgrid(x, y)\n",
    "ddm_points = []\n",
    "for i in range(x.shape[0]):\n",
    "    for j in range(y.shape[0]):\n",
    "        if not poly_shape.contains(shapely.Point(yv[j, i], xv[j, i])):\n",
    "            continue\n",
    "        ddm_points.append([yv[j, i], xv[j, i], 0])\n",
    "ddm_LLA_points = np.array(ddm_points).reshape((-1, 3, 1))"
   ]
  },
  {
   "cell_type": "code",
   "execution_count": 5,
   "metadata": {},
   "outputs": [],
   "source": [
    "rgba = create_palette(\n",
    "    [RGBA_blue, RGBA_white, RGBA_orange, RGBA_blue], ddm_LLA_points.shape[0]\n",
    ")"
   ]
  },
  {
   "cell_type": "code",
   "execution_count": 6,
   "metadata": {},
   "outputs": [],
   "source": [
    "start = datetime.datetime.now()\n",
    "s_step = 20\n",
    "cc = []\n",
    "for i in range(len(rgba)):\n",
    "    d = []\n",
    "    for ii, c in enumerate(rgba[i:] + rgba[:i]):\n",
    "        d.append(\n",
    "            IntervalValue(\n",
    "                start=start + datetime.timedelta(seconds=s_step) * ii,\n",
    "                end=start + datetime.timedelta(seconds=s_step) * (ii + 1),\n",
    "                value=Color(rgba=c),\n",
    "            )\n",
    "        )\n",
    "    cc.append(d)"
   ]
  },
  {
   "cell_type": "code",
   "execution_count": 7,
   "metadata": {},
   "outputs": [],
   "source": [
    "grid = packets.grid(\n",
    "    ddm_LLA_points,\n",
    "    polygon=[\n",
    "        Polygon(\n",
    "            positions=PositionList(cartographicDegrees=[0, 0, 0]),\n",
    "            material=Material(\n",
    "                solidColor=SolidColorMaterial(color=TimeIntervalCollection(values=c))\n",
    "            ),\n",
    "            outlineColor=Color(rgba=[255, 255, 255, 255]),\n",
    "            outline=True,\n",
    "        )\n",
    "        for c in cc\n",
    "    ],\n",
    "    name=[f\"Square {i}\" for i in range(len(rgba))],\n",
    "    description=[\n",
    "        f\"Colour: [{c[0]:.2f}, {c[1]:.2f}, {c[2]:.2f}, {c[3]:.2f}]\" for c in rgba\n",
    "    ],\n",
    "    ddm_LLA_cut=ddm_LLA_israel,\n",
    ")"
   ]
  },
  {
   "cell_type": "code",
   "execution_count": 8,
   "metadata": {},
   "outputs": [],
   "source": [
    "doc = Document(\n",
    "    packets=(\n",
    "        [\n",
    "            Packet(\n",
    "                name=\"simple\",\n",
    "                id=\"document\",\n",
    "                version=CZML_VERSION,\n",
    "                clock=IntervalValue(\n",
    "                    start=start,\n",
    "                    end=start + datetime.timedelta(seconds=s_step) * (ii + 1),\n",
    "                    value=Clock(currentTime=start, multiplier=1200),\n",
    "                ),\n",
    "            )\n",
    "        ]\n",
    "        + border\n",
    "        + grid\n",
    "    )\n",
    ")"
   ]
  },
  {
   "cell_type": "code",
   "execution_count": 9,
   "metadata": {},
   "outputs": [],
   "source": [
    "with open(\"example_time.czml\", \"w\") as f:\n",
    "    f.write(doc.dumps())"
   ]
  },
  {
   "cell_type": "code",
   "execution_count": null,
   "metadata": {},
   "outputs": [],
   "source": []
  }
 ],
 "metadata": {
  "kernelspec": {
   "display_name": "venv",
   "language": "python",
   "name": "python3"
  },
  "language_info": {
   "codemirror_mode": {
    "name": "ipython",
    "version": 3
   },
   "file_extension": ".py",
   "mimetype": "text/x-python",
   "name": "python",
   "nbconvert_exporter": "python",
   "pygments_lexer": "ipython3",
   "version": "3.11.9"
  }
 },
 "nbformat": 4,
 "nbformat_minor": 2
}
