{
 "cells": [
  {
   "cell_type": "code",
   "execution_count": null,
   "metadata": {},
   "outputs": [],
   "source": [
    "import numpy as np\n",
    "import rasterio\n",
    "import shapely\n",
    "from czml3 import Document, Preamble\n",
    "from czml3.properties import (\n",
    "    Color,\n",
    "    Ellipsoid,\n",
    "    EllipsoidRadii,\n",
    "    Material,\n",
    "    Polygon,\n",
    "    Polyline,\n",
    "    PolylineMaterial,\n",
    "    PositionList,\n",
    "    SolidColorMaterial,\n",
    ")\n",
    "\n",
    "import czml3_ext\n",
    "from czml3_ext import packets\n",
    "from czml3_ext.colours import (\n",
    "    RGBA_black,\n",
    "    RGBA_blue,\n",
    "    RGBA_orange,\n",
    "    RGBA_white,\n",
    "    create_palette,\n",
    ")\n",
    "from czml3_ext.helpers import get_border, get_contours"
   ]
  },
  {
   "cell_type": "code",
   "execution_count": null,
   "metadata": {},
   "outputs": [],
   "source": [
    "print(f\"Using czml3-ext version: {czml3_ext.__version__}\")"
   ]
  },
  {
   "cell_type": "markdown",
   "metadata": {},
   "source": [
    "## Border\n",
    "A single border"
   ]
  },
  {
   "cell_type": "code",
   "execution_count": null,
   "metadata": {},
   "outputs": [],
   "source": [
    "border = packets.border(\"Israel\")"
   ]
  },
  {
   "cell_type": "markdown",
   "metadata": {},
   "source": [
    "Multiple borders"
   ]
  },
  {
   "cell_type": "code",
   "execution_count": null,
   "metadata": {},
   "outputs": [],
   "source": [
    "borders = packets.border([\"syria\", \"lebanon\", \"jordan\"])"
   ]
  },
  {
   "cell_type": "markdown",
   "metadata": {},
   "source": [
    "## Sensors\n",
    "A single sensor"
   ]
  },
  {
   "cell_type": "code",
   "execution_count": null,
   "metadata": {},
   "outputs": [],
   "source": [
    "sensor1 = packets.sensor(\n",
    "    np.array([[31.4], [34.7], [1000]]),\n",
    "    10,\n",
    "    30,\n",
    "    100,\n",
    "    20,\n",
    "    10_000,\n",
    "    5000,\n",
    "    name=\"A Sensor\",  # kwargs add to the CZML3 packet\n",
    "    ellipsoid=Ellipsoid(\n",
    "        radii=EllipsoidRadii(\n",
    "            cartesian=[]\n",
    "        ),  # required to create an Ellipsoid(), and is ignored by czml3-ext\n",
    "        material=Material(\n",
    "            solidColor=SolidColorMaterial(\n",
    "                color=Color(rgba=RGBA_blue.get_with_temp_alpha(100))\n",
    "            )\n",
    "        ),\n",
    "        outlineColor=Color(rgba=RGBA_white),\n",
    "        fill=True,\n",
    "        outline=True,\n",
    "    ),\n",
    ")"
   ]
  },
  {
   "cell_type": "code",
   "execution_count": null,
   "metadata": {},
   "outputs": [],
   "source": [
    "sensor2 = packets.sensor(\n",
    "    np.array([[31.4], [34.9], [1000]]),\n",
    "    10,\n",
    "    30,\n",
    "    300,\n",
    "    20,\n",
    "    10_000,\n",
    "    5000,\n",
    "    name=\"A Large Sensor\",  # kwargs add to the CZML3 packet\n",
    "    ellipsoid=Ellipsoid(\n",
    "        radii=EllipsoidRadii(\n",
    "            cartesian=[]\n",
    "        ),  # required to create an Ellipsoid(), and is ignored by czml3-ext\n",
    "        material=Material(\n",
    "            solidColor=SolidColorMaterial(\n",
    "                color=Color(rgba=RGBA_blue.get_with_temp_alpha(100))\n",
    "            )\n",
    "        ),\n",
    "        fill=True,\n",
    "    ),\n",
    ")  # we could use slicePartitions=3 (the minimum), but this makes the fill wrong"
   ]
  },
  {
   "cell_type": "code",
   "execution_count": null,
   "metadata": {},
   "outputs": [],
   "source": [
    "sensor3 = packets.sensor(\n",
    "    np.array([[31.4], [35.12], [1000]]),\n",
    "    10,\n",
    "    30,\n",
    "    300,\n",
    "    20,\n",
    "    10_000,\n",
    "    5000,\n",
    "    name=\"A Confusing Ellipsoid Sensor\",  # kwargs add to the CZML3 packet\n",
    "    ellipsoid=Ellipsoid(\n",
    "        radii=EllipsoidRadii(\n",
    "            cartesian=[]\n",
    "        ),  # required to create an Ellipsoid(), and is ignored by czml3-ext\n",
    "        material=Material(\n",
    "            solidColor=SolidColorMaterial(\n",
    "                color=Color(rgba=RGBA_blue.get_with_temp_alpha(100))\n",
    "            )\n",
    "        ),\n",
    "        outlineColor=Color(rgba=RGBA_white),\n",
    "        fill=True,\n",
    "        outline=True,\n",
    "    ),\n",
    "    max_ellipsoid_angle=360,\n",
    ")"
   ]
  },
  {
   "cell_type": "code",
   "execution_count": null,
   "metadata": {},
   "outputs": [],
   "source": [
    "sensor4 = packets.sensor(\n",
    "    np.array([[31.4], [35.34], [1000]]),\n",
    "    10,\n",
    "    30,\n",
    "    300,\n",
    "    20,\n",
    "    10_000,\n",
    "    5000,\n",
    "    name=\"A Bad Ellipsoid Sensor\",  # kwargs add to the CZML3 packet\n",
    "    ellipsoid=Ellipsoid(\n",
    "        radii=EllipsoidRadii(\n",
    "            cartesian=[]\n",
    "        ),  # required to create an Ellipsoid(), and is ignored by czml3-ext\n",
    "        material=Material(\n",
    "            solidColor=SolidColorMaterial(\n",
    "                color=Color(rgba=RGBA_blue.get_with_temp_alpha(100))\n",
    "            )\n",
    "        ),\n",
    "        outlineColor=Color(rgba=RGBA_white),\n",
    "        fill=True,\n",
    "        outline=True,\n",
    "        slicePartitions=3,\n",
    "    ),\n",
    "    max_ellipsoid_angle=360,\n",
    ")"
   ]
  },
  {
   "cell_type": "markdown",
   "metadata": {},
   "source": [
    "Multiple sensors"
   ]
  },
  {
   "cell_type": "code",
   "execution_count": null,
   "metadata": {},
   "outputs": [],
   "source": [
    "ddm_LLA = np.array([[[31.75], [34.72], [0]], [[31.8], [34.68], [0]]])\n",
    "sensors1 = packets.sensor(\n",
    "    ddm_LLA,\n",
    "    [50, 90],\n",
    "    [60, 30],\n",
    "    [10, 50],\n",
    "    [20, 20],\n",
    "    [10_000, 20_000],\n",
    "    [5_000, 2_000],\n",
    "    name=[\n",
    "        f\"Sensor #{i+1}\" for i in range(ddm_LLA.shape[0])\n",
    "    ],  # a kwarg sequence assigns each property to their appropriate sensor\n",
    "    polyline=Polyline(\n",
    "        positions=PositionList(\n",
    "            cartesian=[]\n",
    "        ),  # required to create a Polyline(), and is ignored by czml3-ext\n",
    "        material=PolylineMaterial(\n",
    "            solidColor=SolidColorMaterial(color=Color(rgba=RGBA_orange))\n",
    "        ),\n",
    "    ),  # a kwarg that is not a sequence will be applied to all sensors\n",
    "    ellipsoid=Ellipsoid(\n",
    "        radii=EllipsoidRadii(\n",
    "            cartesian=[]\n",
    "        ),  # required to create an Ellipsoid(), and is ignored by czml3-ext\n",
    "        material=Material(\n",
    "            solidColor=SolidColorMaterial(\n",
    "                color=Color(rgba=RGBA_blue.get_with_temp_alpha(100))\n",
    "            )\n",
    "        ),\n",
    "        outlineColor=Color(rgba=RGBA_orange),\n",
    "        fill=True,\n",
    "        outline=True,\n",
    "    ),\n",
    ")"
   ]
  },
  {
   "cell_type": "markdown",
   "metadata": {},
   "source": [
    "## Grid\n",
    "Create a grid in Israel"
   ]
  },
  {
   "cell_type": "code",
   "execution_count": null,
   "metadata": {},
   "outputs": [],
   "source": [
    "ddm_LLA_israel = get_border(\"israel\")\n",
    "poly_shape = shapely.Polygon(ddm_LLA_israel[:, [0, 1], 0].tolist())"
   ]
  },
  {
   "cell_type": "code",
   "execution_count": null,
   "metadata": {},
   "outputs": [],
   "source": [
    "x = np.linspace(ddm_LLA_israel[:, 1, 0].min(), ddm_LLA_israel[:, 1, 0].max(), 20)\n",
    "y = np.linspace(ddm_LLA_israel[:, 0, 0].min(), ddm_LLA_israel[:, 0, 0].max(), 20)\n",
    "xv, yv = np.meshgrid(x, y)\n",
    "ddm_points = []\n",
    "for i in range(x.shape[0]):\n",
    "    for j in range(y.shape[0]):\n",
    "        if not poly_shape.contains(shapely.Point(yv[j, i], xv[j, i])):\n",
    "            continue\n",
    "        ddm_points.append([yv[j, i], xv[j, i], 0])\n",
    "ddm_LLA_points = np.array(ddm_points).reshape((-1, 3, 1))"
   ]
  },
  {
   "cell_type": "markdown",
   "metadata": {},
   "source": [
    "Define the colour palette"
   ]
  },
  {
   "cell_type": "code",
   "execution_count": null,
   "metadata": {},
   "outputs": [],
   "source": [
    "rgba = create_palette([RGBA_blue, RGBA_white, RGBA_blue], ddm_LLA_points.shape[0])"
   ]
  },
  {
   "cell_type": "markdown",
   "metadata": {},
   "source": [
    "Create the grid, and cut it using the border"
   ]
  },
  {
   "cell_type": "code",
   "execution_count": null,
   "metadata": {},
   "outputs": [],
   "source": [
    "grid = packets.grid(\n",
    "    ddm_LLA_points,\n",
    "    polygon=[\n",
    "        Polygon(\n",
    "            positions=[],\n",
    "            material=Material(solidColor=SolidColorMaterial(color=Color(rgba=c))),\n",
    "            outlineColor=Color(rgba=[255, 255, 255, 255]),\n",
    "            outline=True,\n",
    "        )\n",
    "        for c in rgba\n",
    "    ],\n",
    "    name=[f\"Square {i}\" for i in range(len(rgba))],\n",
    "    description=[\n",
    "        f\"Colour: [{c[0]:.2f}, {c[1]:.2f}, {c[2]:.2f}, {c[3]:.2f}]\" for c in rgba\n",
    "    ],\n",
    "    ddm_LLA_cut=ddm_LLA_israel,\n",
    ")"
   ]
  },
  {
   "cell_type": "markdown",
   "metadata": {},
   "source": [
    "## Coverage"
   ]
  },
  {
   "cell_type": "code",
   "execution_count": null,
   "metadata": {},
   "outputs": [],
   "source": [
    "with rasterio.open(\"data.tif\") as src:\n",
    "    arr = src.read(1)\n",
    "    origin_x, origin_y = src.transform * (0, 0)\n",
    "    delta_x = src.transform[0]\n",
    "    delta_y = src.transform[4]"
   ]
  },
  {
   "cell_type": "code",
   "execution_count": null,
   "metadata": {},
   "outputs": [],
   "source": [
    "coverages, holes = get_contours(\n",
    "    arr == 5,\n",
    "    origin_x,\n",
    "    delta_x,\n",
    "    origin_y,\n",
    "    delta_y,\n",
    ")"
   ]
  },
  {
   "cell_type": "code",
   "execution_count": null,
   "metadata": {},
   "outputs": [],
   "source": [
    "vs = packets.coverage(\n",
    "    coverages,\n",
    "    holes,\n",
    "    polygon=Polygon(\n",
    "        positions=[],\n",
    "        material=Material(solidColor=SolidColorMaterial(color=Color(rgba=RGBA_black))),\n",
    "        outlineColor=Color(rgba=[255, 255, 255, 255]),\n",
    "        outline=True,\n",
    "    ),\n",
    ")"
   ]
  },
  {
   "cell_type": "code",
   "execution_count": null,
   "metadata": {},
   "outputs": [],
   "source": [
    "sensor_coverage = packets.sensor(\n",
    "    np.array(\n",
    "        [\n",
    "            [origin_y + arr.shape[0] / 2 * delta_y],\n",
    "            [origin_x + arr.shape[1] / 2 * delta_x],\n",
    "            [0],\n",
    "        ]\n",
    "    ),\n",
    "    320,\n",
    "    20,\n",
    "    180,\n",
    "    20,\n",
    "    10_000,\n",
    ")"
   ]
  },
  {
   "cell_type": "markdown",
   "metadata": {},
   "source": [
    "## Export\n",
    "Export to file as you would any other `czml3.Document`."
   ]
  },
  {
   "cell_type": "code",
   "execution_count": null,
   "metadata": {},
   "outputs": [],
   "source": [
    "doc = Document(\n",
    "    packets=(\n",
    "        [Preamble(name=\"simple\")]\n",
    "        + border\n",
    "        + borders\n",
    "        + sensor1\n",
    "        + sensor2\n",
    "        + sensor3\n",
    "        + sensor4\n",
    "        + sensors1\n",
    "        + grid\n",
    "        + vs\n",
    "        + sensor_coverage\n",
    "    )\n",
    ")"
   ]
  },
  {
   "cell_type": "code",
   "execution_count": null,
   "metadata": {},
   "outputs": [],
   "source": [
    "with open(\"example.czml\", \"w\") as f:\n",
    "    f.write(doc.dumps())"
   ]
  },
  {
   "cell_type": "code",
   "execution_count": null,
   "metadata": {},
   "outputs": [],
   "source": []
  }
 ],
 "metadata": {
  "kernelspec": {
   "display_name": "venv",
   "language": "python",
   "name": "python3"
  },
  "language_info": {
   "codemirror_mode": {
    "name": "ipython",
    "version": 3
   },
   "file_extension": ".py",
   "mimetype": "text/x-python",
   "name": "python",
   "nbconvert_exporter": "python",
   "pygments_lexer": "ipython3",
   "version": "3.11.9"
  }
 },
 "nbformat": 4,
 "nbformat_minor": 2
}
